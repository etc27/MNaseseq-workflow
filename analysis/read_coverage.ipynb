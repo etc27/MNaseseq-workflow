{
 "cells": [
  {
   "cell_type": "markdown",
   "metadata": {},
   "source": [
    "# Analysis of Global Nucleosome Positioning in *Arabidopsis thaliana*\n",
    "**Author**: Emma Tung Corcoran </br>\n",
    "**Date Last Modified**: July 27, 2021 </br>\n",
    "**Description**: Micrococcal nuclease digestion with deep sequencing (MNase-seq) is a molecular biology technique that measures nucleosome occupancy across the whole genome. After processing paired-end MNase-seq data using the workflow here: https://github.com/etc27/MNaseseq-workflow/blob/main/README.md, tpm counts are generated corresponding to each gene."
   ]
  },
  {
   "cell_type": "code",
   "execution_count": 2,
   "metadata": {},
   "outputs": [],
   "source": [
    "#Load required dependencies\n",
    "import numpy as np\n",
    "import matplotlib.pyplot as plt\n",
    "import pandas as pd\n",
    "import os\n",
    "import seaborn as sns\n",
    "from scipy.stats import ttest_ind"
   ]
  },
  {
   "cell_type": "code",
   "execution_count": 3,
   "metadata": {},
   "outputs": [],
   "source": [
    "#Set path to save plot\n",
    "save_path = \"/Users/emmacorcoran/Documents/Jupyter Code/2021_05_24_MNase\""
   ]
  },
  {
   "cell_type": "markdown",
   "metadata": {},
   "source": [
    "## Whole Gene Body\n",
    "### Load and clean data"
   ]
  },
  {
   "cell_type": "code",
   "execution_count": 4,
   "metadata": {},
   "outputs": [],
   "source": [
    "#Load data matrices\n",
    "#Profile values at each gene\n",
    "base_path = \"/Users/emmacorcoran/Documents/NGS Data/MNase_2021_05_24/featurecounts/\"\n",
    "filename = \"featurecounts_TPM.tab\"\n",
    "path_to_file = os.path.join(base_path, filename)\n",
    "tpm_data = pd.read_csv(path_to_file, sep='\\t')"
   ]
  },
  {
   "cell_type": "code",
   "execution_count": 5,
   "metadata": {},
   "outputs": [
    {
     "data": {
      "text/html": [
       "<div>\n",
       "<style scoped>\n",
       "    .dataframe tbody tr th:only-of-type {\n",
       "        vertical-align: middle;\n",
       "    }\n",
       "\n",
       "    .dataframe tbody tr th {\n",
       "        vertical-align: top;\n",
       "    }\n",
       "\n",
       "    .dataframe thead th {\n",
       "        text-align: right;\n",
       "    }\n",
       "</style>\n",
       "<table border=\"1\" class=\"dataframe\">\n",
       "  <thead>\n",
       "    <tr style=\"text-align: right;\">\n",
       "      <th></th>\n",
       "      <th>idGene</th>\n",
       "      <th>final_counts_13-6.txt</th>\n",
       "      <th>final_counts_68-18D.txt</th>\n",
       "      <th>final_counts_arid5.txt</th>\n",
       "      <th>final_counts_Col.txt</th>\n",
       "    </tr>\n",
       "  </thead>\n",
       "  <tbody>\n",
       "    <tr>\n",
       "      <th>0</th>\n",
       "      <td>AT1G01010</td>\n",
       "      <td>20.954620</td>\n",
       "      <td>24.090491</td>\n",
       "      <td>25.066619</td>\n",
       "      <td>27.649325</td>\n",
       "    </tr>\n",
       "    <tr>\n",
       "      <th>1</th>\n",
       "      <td>AT1G01020</td>\n",
       "      <td>16.078641</td>\n",
       "      <td>19.560498</td>\n",
       "      <td>17.097994</td>\n",
       "      <td>17.141686</td>\n",
       "    </tr>\n",
       "    <tr>\n",
       "      <th>2</th>\n",
       "      <td>AT1G03987</td>\n",
       "      <td>19.546504</td>\n",
       "      <td>34.706313</td>\n",
       "      <td>25.910654</td>\n",
       "      <td>24.250398</td>\n",
       "    </tr>\n",
       "    <tr>\n",
       "      <th>3</th>\n",
       "      <td>AT1G01030</td>\n",
       "      <td>23.454724</td>\n",
       "      <td>22.625269</td>\n",
       "      <td>21.963835</td>\n",
       "      <td>26.747690</td>\n",
       "    </tr>\n",
       "    <tr>\n",
       "      <th>4</th>\n",
       "      <td>AT1G01040</td>\n",
       "      <td>20.067776</td>\n",
       "      <td>19.363514</td>\n",
       "      <td>20.772528</td>\n",
       "      <td>20.051489</td>\n",
       "    </tr>\n",
       "  </tbody>\n",
       "</table>\n",
       "</div>"
      ],
      "text/plain": [
       "      idGene  final_counts_13-6.txt  final_counts_68-18D.txt  \\\n",
       "0  AT1G01010              20.954620                24.090491   \n",
       "1  AT1G01020              16.078641                19.560498   \n",
       "2  AT1G03987              19.546504                34.706313   \n",
       "3  AT1G01030              23.454724                22.625269   \n",
       "4  AT1G01040              20.067776                19.363514   \n",
       "\n",
       "   final_counts_arid5.txt  final_counts_Col.txt  \n",
       "0               25.066619             27.649325  \n",
       "1               17.097994             17.141686  \n",
       "2               25.910654             24.250398  \n",
       "3               21.963835             26.747690  \n",
       "4               20.772528             20.051489  "
      ]
     },
     "execution_count": 5,
     "metadata": {},
     "output_type": "execute_result"
    }
   ],
   "source": [
    "tpm_data.head()"
   ]
  },
  {
   "cell_type": "code",
   "execution_count": 11,
   "metadata": {},
   "outputs": [
    {
     "data": {
      "text/html": [
       "<div>\n",
       "<style scoped>\n",
       "    .dataframe tbody tr th:only-of-type {\n",
       "        vertical-align: middle;\n",
       "    }\n",
       "\n",
       "    .dataframe tbody tr th {\n",
       "        vertical-align: top;\n",
       "    }\n",
       "\n",
       "    .dataframe thead th {\n",
       "        text-align: right;\n",
       "    }\n",
       "</style>\n",
       "<table border=\"1\" class=\"dataframe\">\n",
       "  <thead>\n",
       "    <tr style=\"text-align: right;\">\n",
       "      <th></th>\n",
       "      <th>idGene</th>\n",
       "      <th>type</th>\n",
       "    </tr>\n",
       "  </thead>\n",
       "  <tbody>\n",
       "    <tr>\n",
       "      <th>0</th>\n",
       "      <td>AT1G01010</td>\n",
       "      <td>protein_coding</td>\n",
       "    </tr>\n",
       "    <tr>\n",
       "      <th>1</th>\n",
       "      <td>AT1G01020</td>\n",
       "      <td>protein_coding</td>\n",
       "    </tr>\n",
       "    <tr>\n",
       "      <th>2</th>\n",
       "      <td>AT1G01030</td>\n",
       "      <td>protein_coding</td>\n",
       "    </tr>\n",
       "    <tr>\n",
       "      <th>3</th>\n",
       "      <td>AT1G01040</td>\n",
       "      <td>protein_coding</td>\n",
       "    </tr>\n",
       "    <tr>\n",
       "      <th>4</th>\n",
       "      <td>AT1G01050</td>\n",
       "      <td>protein_coding</td>\n",
       "    </tr>\n",
       "  </tbody>\n",
       "</table>\n",
       "</div>"
      ],
      "text/plain": [
       "      idGene            type\n",
       "0  AT1G01010  protein_coding\n",
       "1  AT1G01020  protein_coding\n",
       "2  AT1G01030  protein_coding\n",
       "3  AT1G01040  protein_coding\n",
       "4  AT1G01050  protein_coding"
      ]
     },
     "execution_count": 11,
     "metadata": {},
     "output_type": "execute_result"
    }
   ],
   "source": [
    "#Subsection for protein-coding genes\n",
    "base_path = \"/Users/emmacorcoran/Desktop/annotations\"\n",
    "filename = \"proteincoding_1to5.txt\"\n",
    "path_to_file = os.path.join(base_path, filename)\n",
    "proteincoding_list = pd.read_csv(path_to_file, sep='\\t', names=['idGene','type'])\n",
    "proteincoding_list.head()"
   ]
  },
  {
   "cell_type": "code",
   "execution_count": 12,
   "metadata": {},
   "outputs": [
    {
     "data": {
      "text/html": [
       "<div>\n",
       "<style scoped>\n",
       "    .dataframe tbody tr th:only-of-type {\n",
       "        vertical-align: middle;\n",
       "    }\n",
       "\n",
       "    .dataframe tbody tr th {\n",
       "        vertical-align: top;\n",
       "    }\n",
       "\n",
       "    .dataframe thead th {\n",
       "        text-align: right;\n",
       "    }\n",
       "</style>\n",
       "<table border=\"1\" class=\"dataframe\">\n",
       "  <thead>\n",
       "    <tr style=\"text-align: right;\">\n",
       "      <th></th>\n",
       "      <th>idGene</th>\n",
       "      <th>final_counts_13-6.txt</th>\n",
       "      <th>final_counts_68-18D.txt</th>\n",
       "      <th>final_counts_arid5.txt</th>\n",
       "      <th>final_counts_Col.txt</th>\n",
       "      <th>type</th>\n",
       "    </tr>\n",
       "  </thead>\n",
       "  <tbody>\n",
       "    <tr>\n",
       "      <th>0</th>\n",
       "      <td>AT1G01010</td>\n",
       "      <td>20.954620</td>\n",
       "      <td>24.090491</td>\n",
       "      <td>25.066619</td>\n",
       "      <td>27.649325</td>\n",
       "      <td>protein_coding</td>\n",
       "    </tr>\n",
       "    <tr>\n",
       "      <th>1</th>\n",
       "      <td>AT1G01020</td>\n",
       "      <td>16.078641</td>\n",
       "      <td>19.560498</td>\n",
       "      <td>17.097994</td>\n",
       "      <td>17.141686</td>\n",
       "      <td>protein_coding</td>\n",
       "    </tr>\n",
       "    <tr>\n",
       "      <th>2</th>\n",
       "      <td>AT1G01030</td>\n",
       "      <td>23.454724</td>\n",
       "      <td>22.625269</td>\n",
       "      <td>21.963835</td>\n",
       "      <td>26.747690</td>\n",
       "      <td>protein_coding</td>\n",
       "    </tr>\n",
       "    <tr>\n",
       "      <th>3</th>\n",
       "      <td>AT1G01040</td>\n",
       "      <td>20.067776</td>\n",
       "      <td>19.363514</td>\n",
       "      <td>20.772528</td>\n",
       "      <td>20.051489</td>\n",
       "      <td>protein_coding</td>\n",
       "    </tr>\n",
       "    <tr>\n",
       "      <th>4</th>\n",
       "      <td>AT1G01050</td>\n",
       "      <td>15.099374</td>\n",
       "      <td>16.351593</td>\n",
       "      <td>18.836846</td>\n",
       "      <td>20.720375</td>\n",
       "      <td>protein_coding</td>\n",
       "    </tr>\n",
       "  </tbody>\n",
       "</table>\n",
       "</div>"
      ],
      "text/plain": [
       "      idGene  final_counts_13-6.txt  final_counts_68-18D.txt  \\\n",
       "0  AT1G01010              20.954620                24.090491   \n",
       "1  AT1G01020              16.078641                19.560498   \n",
       "2  AT1G01030              23.454724                22.625269   \n",
       "3  AT1G01040              20.067776                19.363514   \n",
       "4  AT1G01050              15.099374                16.351593   \n",
       "\n",
       "   final_counts_arid5.txt  final_counts_Col.txt            type  \n",
       "0               25.066619             27.649325  protein_coding  \n",
       "1               17.097994             17.141686  protein_coding  \n",
       "2               21.963835             26.747690  protein_coding  \n",
       "3               20.772528             20.051489  protein_coding  \n",
       "4               18.836846             20.720375  protein_coding  "
      ]
     },
     "execution_count": 12,
     "metadata": {},
     "output_type": "execute_result"
    }
   ],
   "source": [
    "metadata = pd.merge(tpm_data, proteincoding_list, on=\"idGene\")\n",
    "metadata.head()"
   ]
  },
  {
   "cell_type": "markdown",
   "metadata": {},
   "source": [
    "#### Make boxplot of nucleosome read coverage over genes"
   ]
  },
  {
   "cell_type": "code",
   "execution_count": 15,
   "metadata": {},
   "outputs": [
    {
     "data": {
      "text/html": [
       "<div>\n",
       "<style scoped>\n",
       "    .dataframe tbody tr th:only-of-type {\n",
       "        vertical-align: middle;\n",
       "    }\n",
       "\n",
       "    .dataframe tbody tr th {\n",
       "        vertical-align: top;\n",
       "    }\n",
       "\n",
       "    .dataframe thead th {\n",
       "        text-align: right;\n",
       "    }\n",
       "</style>\n",
       "<table border=\"1\" class=\"dataframe\">\n",
       "  <thead>\n",
       "    <tr style=\"text-align: right;\">\n",
       "      <th></th>\n",
       "      <th>Col</th>\n",
       "      <th>68-18D</th>\n",
       "      <th>13-6</th>\n",
       "      <th>arid5</th>\n",
       "    </tr>\n",
       "  </thead>\n",
       "  <tbody>\n",
       "    <tr>\n",
       "      <th>0</th>\n",
       "      <td>27.649325</td>\n",
       "      <td>24.090491</td>\n",
       "      <td>20.954620</td>\n",
       "      <td>25.066619</td>\n",
       "    </tr>\n",
       "    <tr>\n",
       "      <th>1</th>\n",
       "      <td>17.141686</td>\n",
       "      <td>19.560498</td>\n",
       "      <td>16.078641</td>\n",
       "      <td>17.097994</td>\n",
       "    </tr>\n",
       "    <tr>\n",
       "      <th>2</th>\n",
       "      <td>26.747690</td>\n",
       "      <td>22.625269</td>\n",
       "      <td>23.454724</td>\n",
       "      <td>21.963835</td>\n",
       "    </tr>\n",
       "    <tr>\n",
       "      <th>3</th>\n",
       "      <td>20.051489</td>\n",
       "      <td>19.363514</td>\n",
       "      <td>20.067776</td>\n",
       "      <td>20.772528</td>\n",
       "    </tr>\n",
       "    <tr>\n",
       "      <th>4</th>\n",
       "      <td>20.720375</td>\n",
       "      <td>16.351593</td>\n",
       "      <td>15.099374</td>\n",
       "      <td>18.836846</td>\n",
       "    </tr>\n",
       "  </tbody>\n",
       "</table>\n",
       "</div>"
      ],
      "text/plain": [
       "         Col     68-18D       13-6      arid5\n",
       "0  27.649325  24.090491  20.954620  25.066619\n",
       "1  17.141686  19.560498  16.078641  17.097994\n",
       "2  26.747690  22.625269  23.454724  21.963835\n",
       "3  20.051489  19.363514  20.067776  20.772528\n",
       "4  20.720375  16.351593  15.099374  18.836846"
      ]
     },
     "execution_count": 15,
     "metadata": {},
     "output_type": "execute_result"
    }
   ],
   "source": [
    "df = metadata.iloc[:,1:5]\n",
    "df.columns = ['13-6', '68-18D', 'arid5', 'Col']\n",
    "df = df[['Col', '68-18D', '13-6', 'arid5']]\n",
    "df.head()"
   ]
  },
  {
   "cell_type": "code",
   "execution_count": 16,
   "metadata": {},
   "outputs": [],
   "source": [
    "#Set font \n",
    "plt.rcParams.update({'font.sans-serif':'Arial'})\n",
    "plt.rcParams.update({'font.size': 20})"
   ]
  },
  {
   "cell_type": "code",
   "execution_count": 17,
   "metadata": {},
   "outputs": [
    {
     "data": {
      "image/png": "[encoded data removed]",
      "text/plain": [
       "<Figure size 432x288 with 1 Axes>"
      ]
     },
     "metadata": {
      "needs_background": "light"
     },
     "output_type": "display_data"
    }
   ],
   "source": [
    "ax = sns.boxplot(x=\"variable\", y=\"value\", data=pd.melt(df), showfliers = False)\n",
    "plt.title(\"All Genes\")\n",
    "plt.ylabel(\"TPM\")\n",
    "plt.xlabel(\"\")\n",
    "#plt.show()\n",
    "filename = \"Nucleosome Read Coverage/all_samples\"\n",
    "path_to_file = os.path.join(save_path, filename)\n",
    "plt.savefig(path_to_file,bbox_inches='tight',dpi=500)"
   ]
  },
  {
   "cell_type": "markdown",
   "metadata": {},
   "source": [
    "### T-test"
   ]
  },
  {
   "cell_type": "code",
   "execution_count": 83,
   "metadata": {},
   "outputs": [
    {
     "name": "stdout",
     "output_type": "stream",
     "text": [
      "Col vs 68-18D: Ttest_indResult(statistic=8.436657508244002, pvalue=3.343976873239101e-17)\n",
      "13-6 vs 68-18D: Ttest_indResult(statistic=-3.1031801646372994, pvalue=0.001915530602796286)\n",
      "Col vs 13-6: Ttest_indResult(statistic=10.826343291588923, pvalue=2.760783748424909e-27)\n",
      "Col vs arid5: Ttest_indResult(statistic=5.80415089979248, pvalue=6.504820590104412e-09)\n"
     ]
    }
   ],
   "source": [
    "print(\"Col vs 68-18D:\", ttest_ind(df['Col'], df['68-18D'], equal_var=False))\n",
    "print(\"13-6 vs 68-18D:\", ttest_ind(df['13-6'], df['68-18D'], equal_var=False))\n",
    "print(\"Col vs 13-6:\", ttest_ind(df['Col'], df['13-6'], equal_var=False))\n",
    "print(\"Col vs arid5:\", ttest_ind(df['Col'], df['arid5'], equal_var=False))"
   ]
  },
  {
   "cell_type": "markdown",
   "metadata": {},
   "source": [
    "## Filter by different gene groups"
   ]
  },
  {
   "cell_type": "code",
   "execution_count": 91,
   "metadata": {},
   "outputs": [],
   "source": [
    "# Load DEG data\n",
    "def deg_load(path, name):\n",
    "    deg_file = pd.read_csv(path_to_file, sep='\\t', header=None)\n",
    "    deg_file.columns = [name]\n",
    "    return deg_file\n",
    "\n",
    "base_path = \"/Users/emmacorcoran/Documents/R Scripts/RNA-seq/2021_07_08 RNA-seq/Up_and_Down\"\n",
    "\n",
    "#chr11/17 down-regulated genes\n",
    "filename = \"chr11chr17_downreg.txt\"\n",
    "path_to_file = os.path.join(base_path, filename)\n",
    "chr_downreg = deg_load(path_to_file, \"idGene\")\n",
    "#chr11/17 up-regulated genes\n",
    "filename = \"chr11chr17_upreg.txt\"\n",
    "path_to_file = os.path.join(base_path, filename)\n",
    "chr_upreg = deg_load(path_to_file, \"idGene\")\n",
    "\n",
    "#R17A-2 down-regulated genes\n",
    "filename = \"13.9_downreg.txt\"\n",
    "path_to_file = os.path.join(base_path, filename)\n",
    "x13_9_downreg = deg_load(path_to_file, \"idGene\")\n",
    "#R17A-2 up-regulated genes\n",
    "filename = \"13.9_downreg.txt\"\n",
    "path_to_file = os.path.join(base_path, filename)\n",
    "x13_9_upreg = deg_load(path_to_file, \"idGene\")\n",
    "\n",
    "#R17A-1 down-regulated genes\n",
    "filename = \"13.6_downreg.txt\"\n",
    "path_to_file = os.path.join(base_path, filename)\n",
    "x13_6_downreg = deg_load(path_to_file, \"idGene\")\n",
    "#R17A-1 up-regulated genes\n",
    "filename = \"13.6_downreg.txt\"\n",
    "path_to_file = os.path.join(base_path, filename)\n",
    "x13_6_upreg = deg_load(path_to_file, \"idGene\")\n",
    "\n",
    "#arid5 down-regulated genes\n",
    "filename = \"arid5_downreg.txt\"\n",
    "path_to_file = os.path.join(base_path, filename)\n",
    "arid5_downreg = deg_load(path_to_file, \"idGene\")\n",
    "#arid5 up-regulated genes\n",
    "filename = \"arid5_upreg.txt\"\n",
    "path_to_file = os.path.join(base_path, filename)\n",
    "arid5_upreg = deg_load(path_to_file, \"idGene\")\n",
    "\n",
    "#rlt1/2 down-regulated genes\n",
    "filename = \"rlt12_downreg.txt\"\n",
    "path_to_file = os.path.join(base_path, filename)\n",
    "rlt12_downreg = deg_load(path_to_file, \"idGene\")\n",
    "#rlt1/2 up-regulated genes\n",
    "filename = \"rlt12_upreg.txt\"\n",
    "path_to_file = os.path.join(base_path, filename)\n",
    "rlt12_upreg = deg_load(path_to_file, \"idGene\")"
   ]
  },
  {
   "cell_type": "code",
   "execution_count": 92,
   "metadata": {},
   "outputs": [],
   "source": [
    "def merge_upanddown(metadata, downreg, upreg):\n",
    "    downreg_subset = pd.merge(metadata, downreg, on=\"idGene\")\n",
    "    upreg_subset = pd.merge(metadata, upreg, on=\"idGene\")\n",
    "    upreg_subset['DEG'] = \"up\"\n",
    "    downreg_subset['DEG'] = \"down\"\n",
    "    deg_subset = downreg_subset.append(upreg_subset)\n",
    "    return(deg_subset)"
   ]
  },
  {
   "cell_type": "code",
   "execution_count": 93,
   "metadata": {},
   "outputs": [],
   "source": [
    "#Merge metadata with DEG data\n",
    "chr_deg_subset = merge_upanddown(metadata, chr_downreg, chr_upreg)\n",
    "arid5_deg_subset = merge_upanddown(metadata, arid5_downreg, arid5_upreg)\n",
    "rlt12_deg_subset = merge_upanddown(metadata, rlt12_downreg, rlt12_upreg)\n",
    "x13_6_deg_subset = merge_upanddown(metadata, x13_6_downreg, x13_6_upreg)\n",
    "x13_9_deg_subset = merge_upanddown(metadata, x13_9_downreg, x13_9_upreg)"
   ]
  },
  {
   "cell_type": "code",
   "execution_count": 94,
   "metadata": {},
   "outputs": [],
   "source": [
    "def merge_all(metadata, deg_1, deg_2, deg_3=None, deg_4=None, deg_5=None):\n",
    "    all_deg = pd.merge(deg_1, deg_2, on=\"idGene\", how=\"outer\")\n",
    "    if deg_3 is not None:\n",
    "        all_deg = pd.merge(all_deg, deg_3, on=\"idGene\", how=\"outer\")\n",
    "    if deg_4 is not None:\n",
    "        all_deg = pd.merge(all_deg, deg_4, on=\"idGene\", how=\"outer\")\n",
    "    if deg_5 is not None:\n",
    "        all_deg = pd.merge(all_deg, deg_5, on=\"idGene\", how=\"outer\")\n",
    "    deg_subset = pd.merge(metadata, all_deg, on=\"idGene\")\n",
    "    return(deg_subset)"
   ]
  },
  {
   "cell_type": "code",
   "execution_count": 95,
   "metadata": {},
   "outputs": [],
   "source": [
    "chr_deg = pd.merge(chr_downreg, chr_upreg, how=\"outer\")\n",
    "arid5_deg = pd.merge(arid5_downreg, arid5_upreg, how=\"outer\")\n",
    "rlt12_deg = pd.merge(rlt12_downreg, rlt12_upreg, how=\"outer\")\n",
    "x13_6_deg = pd.merge(x13_6_downreg, x13_6_upreg, how=\"outer\")\n",
    "x13_9_deg = pd.merge(x13_9_downreg, x13_9_upreg, how=\"outer\")\n",
    "x13_deg = pd.merge(x13_6_deg, x13_9_deg, how=\"outer\")\n",
    "\n",
    "iswi_deg_subset = merge_all(metadata, chr_deg, arid5_deg, rlt12_deg)\n",
    "all_deg_subset = merge_all(metadata, chr_deg, arid5_deg, rlt12_deg, x13_deg)\n",
    "x13_deg_subset = merge_all(metadata, x13_6_deg, x13_9_deg)"
   ]
  },
  {
   "cell_type": "code",
   "execution_count": 97,
   "metadata": {},
   "outputs": [],
   "source": [
    "#Unaffected genes\n",
    "# Load DEG data\n",
    "def deg_load(path, name):\n",
    "    deg_file = pd.read_csv(path_to_file, sep='\\t', header=None)\n",
    "    deg_file.columns = [name]\n",
    "    return deg_file\n",
    "\n",
    "base_path = \"/Users/emmacorcoran/Documents/R Scripts/RNA-seq/2021_07_08 RNA-seq/Unaffected\"\n",
    "\n",
    "#chr11/17 Unaffected genes\n",
    "filename = \"chrvsCol.txt\"\n",
    "path_to_file = os.path.join(base_path, filename)\n",
    "chr_unaffected = deg_load(path_to_file, \"idGene\")\n",
    "\n",
    "#arid5 Unaffected genes\n",
    "filename = \"arid5vsCol.txt\"\n",
    "path_to_file = os.path.join(base_path, filename)\n",
    "arid5_unaffected = deg_load(path_to_file, \"idGene\")\n",
    "\n",
    "#rlt1/2 Unaffected genes\n",
    "filename = \"rlt12vsCol.txt\"\n",
    "path_to_file = os.path.join(base_path, filename)\n",
    "rlt12_unaffected = deg_load(path_to_file, \"idGene\")\n",
    "\n",
    "#13.6 Unaffected genes\n",
    "filename = \"13.6vsCol.txt\"\n",
    "path_to_file = os.path.join(base_path, filename)\n",
    "s13_6_unaffected = deg_load(path_to_file, \"idGene\")\n",
    "\n",
    "#13.9 Unaffected genes\n",
    "filename = \"13.9vsCol.txt\"\n",
    "path_to_file = os.path.join(base_path, filename)\n",
    "s13_9_unaffected = deg_load(path_to_file, \"idGene\")"
   ]
  },
  {
   "cell_type": "code",
   "execution_count": 99,
   "metadata": {},
   "outputs": [],
   "source": [
    "def merge_unaffected(metadata, deg_1, deg_2, deg_3=None, deg_4=None, deg_5=None):\n",
    "    all_deg = pd.merge(deg_1, deg_2, on=\"idGene\", how=\"outer\")\n",
    "    if deg_3 is not None:\n",
    "        all_deg = pd.merge(all_deg, deg_3, on=\"idGene\", how=\"outer\")\n",
    "    if deg_4 is not None:\n",
    "        all_deg = pd.merge(all_deg, deg_4, on=\"idGene\", how=\"outer\")\n",
    "    if deg_5 is not None:\n",
    "        all_deg = pd.merge(all_deg, deg_5, on=\"idGene\", how=\"outer\")\n",
    "    deg_subset = pd.merge(metadata, all_deg, on=\"idGene\")\n",
    "    return(deg_subset)"
   ]
  },
  {
   "cell_type": "code",
   "execution_count": 100,
   "metadata": {},
   "outputs": [],
   "source": [
    "chr_unaffected_subset = pd.merge(metadata, chr_unaffected, on=\"idGene\")\n",
    "rlt12_unaffected_subset = pd.merge(metadata, rlt12_unaffected, on=\"idGene\")\n",
    "arid5_unaffected_subset = pd.merge(metadata, arid5_unaffected, on=\"idGene\")\n",
    "s13_6_unaffected_subset = pd.merge(metadata, s13_6_unaffected, on=\"idGene\")\n",
    "s13_9_unaffected_subset = pd.merge(metadata, s13_9_unaffected, on=\"idGene\")\n",
    "\n",
    "x13_unaffected = pd.merge(s13_6_unaffected, s13_9_unaffected, how=\"outer\")\n",
    "\n",
    "iswi_unaffected_subset = merge_unaffected(metadata, chr_unaffected, arid5_unaffected, rlt12_unaffected)\n",
    "all_unaffected_subset = merge_unaffected(metadata, chr_unaffected, arid5_unaffected, rlt12_unaffected, x13_unaffected)\n",
    "x13_unaffected_subset = merge_unaffected(metadata, s13_6_unaffected, s13_9_unaffected)"
   ]
  },
  {
   "cell_type": "code",
   "execution_count": 104,
   "metadata": {},
   "outputs": [],
   "source": [
    "def plot_gene_group(all_data, name):\n",
    "    df = all_data.iloc[:,1:5]\n",
    "    df.columns = ['13-6', '68-18D', 'arid5', 'Col']\n",
    "    df = df[['Col', '68-18D', '13-6', 'arid5']]\n",
    "    \n",
    "    #Plot data\n",
    "    ax = sns.boxplot(x=\"variable\", y=\"value\", data=pd.melt(df), showfliers = False)\n",
    "    plt.title(name)\n",
    "    plt.ylabel(\"TPM\")\n",
    "    plt.xlabel(\"\")\n",
    "\n",
    "    filename = \"Nucleosome Read Coverage/\"\n",
    "    path_to_file = os.path.join(save_path, filename)\n",
    "    plt.savefig(path_to_file+name)\n",
    "    plt.clf()"
   ]
  },
  {
   "cell_type": "code",
   "execution_count": 105,
   "metadata": {},
   "outputs": [
    {
     "data": {
      "text/plain": [
       "<Figure size 432x288 with 0 Axes>"
      ]
     },
     "metadata": {},
     "output_type": "display_data"
    }
   ],
   "source": [
    "#Plot data with all samples\n",
    "plot_gene_group(chr_deg_subset, \"chr11chr17_DEG\")\n",
    "plot_gene_group(arid5_deg_subset, \"arid5_DEG\")\n",
    "plot_gene_group(rlt12_deg_subset, \"rlt12_DEG\")\n",
    "\n",
    "plot_gene_group(iswi_deg_subset, \"ISWI_DEG\")\n",
    "plot_gene_group(all_deg_subset, \"all_DEG\")\n",
    "plot_gene_group(x13_deg_subset, \"R17A_DEG\")\n",
    "\n",
    "plot_gene_group(chr_unaffected_subset, \"chr11chr17_unaffected\")\n",
    "plot_gene_group(arid5_unaffected_subset, \"arid5_unaffected\")\n",
    "plot_gene_group(rlt12_unaffected_subset, \"rlt12_unaffected\")\n",
    "\n",
    "plot_gene_group(iswi_unaffected_subset, \"ISWI_unaffected\")\n",
    "plot_gene_group(all_unaffected_subset, \"all_unaffected\")\n",
    "plot_gene_group(x13_unaffected_subset, \"R17A_unaffected\")"
   ]
  }
 ],
 "metadata": {
  "kernelspec": {
   "display_name": "Python 3",
   "language": "python",
   "name": "python3"
  },
  "language_info": {
   "codemirror_mode": {
    "name": "ipython",
    "version": 3
   },
   "file_extension": ".py",
   "mimetype": "text/x-python",
   "name": "python",
   "nbconvert_exporter": "python",
   "pygments_lexer": "ipython3",
   "version": "3.8.3"
  }
 },
 "nbformat": 4,
 "nbformat_minor": 4
}
