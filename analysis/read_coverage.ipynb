{
 "cells": [
  {
   "cell_type": "markdown",
   "metadata": {},
   "source": [
    "# Analysis of Global Nucleosome Positioning in *Arabidopsis thaliana*\n",
    "**Author**: Emma Tung Corcoran </br>\n",
    "**Date Last Modified**: July 27, 2021 </br>\n",
    "**Description**: Micrococcal nuclease digestion with deep sequencing (MNase-seq) is a molecular biology technique that measures nucleosome occupancy across the whole genome. After processing paired-end MNase-seq data using the workflow here: https://github.com/etc27/MNaseseq-workflow/blob/main/README.md, tpm counts are generated corresponding to each gene."
   ]
  },
  {
   "cell_type": "code",
   "execution_count": 1,
   "metadata": {},
   "outputs": [],
   "source": [
    "#Load required dependencies\n",
    "import numpy as np\n",
    "import matplotlib.pyplot as plt\n",
    "import pandas as pd\n",
    "import os\n",
    "import seaborn as sns\n",
    "from scipy.stats import ttest_ind"
   ]
  },
  {
   "cell_type": "code",
   "execution_count": 2,
   "metadata": {},
   "outputs": [],
   "source": [
    "#Set path to save plot\n",
    "save_path = \"/Users/emmacorcoran/Documents/Jupyter Code/2021_05_24_MNase\""
   ]
  },
  {
   "cell_type": "markdown",
   "metadata": {},
   "source": [
    "## Whole Gene Body\n",
    "### Load and clean data"
   ]
  },
  {
   "cell_type": "code",
   "execution_count": 3,
   "metadata": {},
   "outputs": [],
   "source": [
    "#Load data matrices\n",
    "#Profile values at each gene\n",
    "base_path = \"/Users/emmacorcoran/Documents/NGS Data/MNase_2021_05_24/featurecounts/\"\n",
    "filename = \"featurecounts_TPM.tab\"\n",
    "path_to_file = os.path.join(base_path, filename)\n",
    "tpm_data = pd.read_csv(path_to_file, sep='\\t')"
   ]
  },
  {
   "cell_type": "code",
   "execution_count": 4,
   "metadata": {},
   "outputs": [
    {
     "data": {
      "text/html": [
       "<div>\n",
       "<style scoped>\n",
       "    .dataframe tbody tr th:only-of-type {\n",
       "        vertical-align: middle;\n",
       "    }\n",
       "\n",
       "    .dataframe tbody tr th {\n",
       "        vertical-align: top;\n",
       "    }\n",
       "\n",
       "    .dataframe thead th {\n",
       "        text-align: right;\n",
       "    }\n",
       "</style>\n",
       "<table border=\"1\" class=\"dataframe\">\n",
       "  <thead>\n",
       "    <tr style=\"text-align: right;\">\n",
       "      <th></th>\n",
       "      <th>idGene</th>\n",
       "      <th>final_counts_13-6.txt</th>\n",
       "      <th>final_counts_68-18D.txt</th>\n",
       "      <th>final_counts_arid5.txt</th>\n",
       "      <th>final_counts_Col.txt</th>\n",
       "    </tr>\n",
       "  </thead>\n",
       "  <tbody>\n",
       "    <tr>\n",
       "      <th>0</th>\n",
       "      <td>AT1G01010</td>\n",
       "      <td>20.954620</td>\n",
       "      <td>24.090491</td>\n",
       "      <td>25.066619</td>\n",
       "      <td>27.649325</td>\n",
       "    </tr>\n",
       "    <tr>\n",
       "      <th>1</th>\n",
       "      <td>AT1G01020</td>\n",
       "      <td>16.078641</td>\n",
       "      <td>19.560498</td>\n",
       "      <td>17.097994</td>\n",
       "      <td>17.141686</td>\n",
       "    </tr>\n",
       "    <tr>\n",
       "      <th>2</th>\n",
       "      <td>AT1G03987</td>\n",
       "      <td>19.546504</td>\n",
       "      <td>34.706313</td>\n",
       "      <td>25.910654</td>\n",
       "      <td>24.250398</td>\n",
       "    </tr>\n",
       "    <tr>\n",
       "      <th>3</th>\n",
       "      <td>AT1G01030</td>\n",
       "      <td>23.454724</td>\n",
       "      <td>22.625269</td>\n",
       "      <td>21.963835</td>\n",
       "      <td>26.747690</td>\n",
       "    </tr>\n",
       "    <tr>\n",
       "      <th>4</th>\n",
       "      <td>AT1G01040</td>\n",
       "      <td>20.067776</td>\n",
       "      <td>19.363514</td>\n",
       "      <td>20.772528</td>\n",
       "      <td>20.051489</td>\n",
       "    </tr>\n",
       "  </tbody>\n",
       "</table>\n",
       "</div>"
      ],
      "text/plain": [
       "      idGene  final_counts_13-6.txt  final_counts_68-18D.txt  \\\n",
       "0  AT1G01010              20.954620                24.090491   \n",
       "1  AT1G01020              16.078641                19.560498   \n",
       "2  AT1G03987              19.546504                34.706313   \n",
       "3  AT1G01030              23.454724                22.625269   \n",
       "4  AT1G01040              20.067776                19.363514   \n",
       "\n",
       "   final_counts_arid5.txt  final_counts_Col.txt  \n",
       "0               25.066619             27.649325  \n",
       "1               17.097994             17.141686  \n",
       "2               25.910654             24.250398  \n",
       "3               21.963835             26.747690  \n",
       "4               20.772528             20.051489  "
      ]
     },
     "execution_count": 4,
     "metadata": {},
     "output_type": "execute_result"
    }
   ],
   "source": [
    "tpm_data.head()"
   ]
  },
  {
   "cell_type": "code",
   "execution_count": null,
   "metadata": {},
   "outputs": [],
   "source": [
    "#Subsection for protein-coding genes\n",
    "proteincoding_1to5\n",
    "base_path = \"/Users/emmacorcoran/Documents/Desktop/annotations\"\n",
    "filename = \"proteincoding_1to5.txt\"\n",
    "path_to_file = os.path.join(base_path, filename)\n",
    "tpm_data = pd.read_csv(path_to_file, sep='\\t')"
   ]
  },
  {
   "cell_type": "code",
   "execution_count": null,
   "metadata": {},
   "outputs": [],
   "source": []
  },
  {
   "cell_type": "code",
   "execution_count": null,
   "metadata": {},
   "outputs": [],
   "source": []
  },
  {
   "cell_type": "code",
   "execution_count": 5,
   "metadata": {},
   "outputs": [],
   "source": [
    "#Remove ChrM and ChrC reads\n",
    "def remove_MC(df):\n",
    "    df = df[tpm_data['idGene'].str.contains('ATM') != True]\n",
    "    df = df[tpm_data['idGene'].str.contains('ATC') != True]\n",
    "    return df"
   ]
  },
  {
   "cell_type": "code",
   "execution_count": 6,
   "metadata": {},
   "outputs": [
    {
     "name": "stderr",
     "output_type": "stream",
     "text": [
      "<ipython-input-5-fbe71e2c925a>:4: UserWarning: Boolean Series key will be reindexed to match DataFrame index.\n",
      "  df = df[tpm_data['idGene'].str.contains('ATC') != True]\n"
     ]
    },
    {
     "data": {
      "text/html": [
       "<div>\n",
       "<style scoped>\n",
       "    .dataframe tbody tr th:only-of-type {\n",
       "        vertical-align: middle;\n",
       "    }\n",
       "\n",
       "    .dataframe tbody tr th {\n",
       "        vertical-align: top;\n",
       "    }\n",
       "\n",
       "    .dataframe thead th {\n",
       "        text-align: right;\n",
       "    }\n",
       "</style>\n",
       "<table border=\"1\" class=\"dataframe\">\n",
       "  <thead>\n",
       "    <tr style=\"text-align: right;\">\n",
       "      <th></th>\n",
       "      <th>idGene</th>\n",
       "      <th>final_counts_13-6.txt</th>\n",
       "      <th>final_counts_68-18D.txt</th>\n",
       "      <th>final_counts_arid5.txt</th>\n",
       "      <th>final_counts_Col.txt</th>\n",
       "    </tr>\n",
       "  </thead>\n",
       "  <tbody>\n",
       "    <tr>\n",
       "      <th>0</th>\n",
       "      <td>AT1G01010</td>\n",
       "      <td>20.954620</td>\n",
       "      <td>24.090491</td>\n",
       "      <td>25.066619</td>\n",
       "      <td>27.649325</td>\n",
       "    </tr>\n",
       "    <tr>\n",
       "      <th>1</th>\n",
       "      <td>AT1G01020</td>\n",
       "      <td>16.078641</td>\n",
       "      <td>19.560498</td>\n",
       "      <td>17.097994</td>\n",
       "      <td>17.141686</td>\n",
       "    </tr>\n",
       "    <tr>\n",
       "      <th>2</th>\n",
       "      <td>AT1G03987</td>\n",
       "      <td>19.546504</td>\n",
       "      <td>34.706313</td>\n",
       "      <td>25.910654</td>\n",
       "      <td>24.250398</td>\n",
       "    </tr>\n",
       "    <tr>\n",
       "      <th>3</th>\n",
       "      <td>AT1G01030</td>\n",
       "      <td>23.454724</td>\n",
       "      <td>22.625269</td>\n",
       "      <td>21.963835</td>\n",
       "      <td>26.747690</td>\n",
       "    </tr>\n",
       "    <tr>\n",
       "      <th>4</th>\n",
       "      <td>AT1G01040</td>\n",
       "      <td>20.067776</td>\n",
       "      <td>19.363514</td>\n",
       "      <td>20.772528</td>\n",
       "      <td>20.051489</td>\n",
       "    </tr>\n",
       "  </tbody>\n",
       "</table>\n",
       "</div>"
      ],
      "text/plain": [
       "      idGene  final_counts_13-6.txt  final_counts_68-18D.txt  \\\n",
       "0  AT1G01010              20.954620                24.090491   \n",
       "1  AT1G01020              16.078641                19.560498   \n",
       "2  AT1G03987              19.546504                34.706313   \n",
       "3  AT1G01030              23.454724                22.625269   \n",
       "4  AT1G01040              20.067776                19.363514   \n",
       "\n",
       "   final_counts_arid5.txt  final_counts_Col.txt  \n",
       "0               25.066619             27.649325  \n",
       "1               17.097994             17.141686  \n",
       "2               25.910654             24.250398  \n",
       "3               21.963835             26.747690  \n",
       "4               20.772528             20.051489  "
      ]
     },
     "execution_count": 6,
     "metadata": {},
     "output_type": "execute_result"
    }
   ],
   "source": [
    "df_noMC = remove_MC(tpm_data)\n",
    "df_noMC.head()"
   ]
  },
  {
   "cell_type": "markdown",
   "metadata": {},
   "source": [
    "#### Make boxplot of nucleosome read coverage over genes"
   ]
  },
  {
   "cell_type": "code",
   "execution_count": 7,
   "metadata": {},
   "outputs": [],
   "source": [
    "df = df_noMC.iloc[:,1:]\n",
    "df.columns = ['13-6', '68-18D', 'arid5', 'Col']\n",
    "df = df[['Col', '68-18D', '13-6', 'arid5']]"
   ]
  },
  {
   "cell_type": "code",
   "execution_count": 8,
   "metadata": {},
   "outputs": [],
   "source": [
    "#Set font \n",
    "plt.rcParams.update({'font.sans-serif':'Arial'})\n",
    "plt.rcParams.update({'font.size': 20})"
   ]
  },
  {
   "cell_type": "code",
   "execution_count": 9,
   "metadata": {},
   "outputs": [
    {
     "data": {
      "image/png": "[encoded data removed]",
      "text/plain": [
       "<Figure size 432x288 with 1 Axes>"
      ]
     },
     "metadata": {
      "needs_background": "light"
     },
     "output_type": "display_data"
    }
   ],
   "source": [
    "ax = sns.boxplot(x=\"variable\", y=\"value\", data=pd.melt(df), showfliers = False)\n",
    "plt.title(\"All Genes\")\n",
    "plt.ylabel(\"TPM\")\n",
    "plt.xlabel(\"\")\n",
    "#plt.show()\n",
    "filename = \"Nucleosome Read Coverage/all_samples\"\n",
    "path_to_file = os.path.join(save_path, filename)\n",
    "plt.savefig(path_to_file,bbox_inches='tight',dpi=500)"
   ]
  },
  {
   "cell_type": "markdown",
   "metadata": {},
   "source": [
    "### T-test"
   ]
  },
  {
   "cell_type": "code",
   "execution_count": 10,
   "metadata": {},
   "outputs": [
    {
     "name": "stdout",
     "output_type": "stream",
     "text": [
      "Col vs 68-18D: Ttest_indResult(statistic=5.499512261687695, pvalue=3.82248764408888e-08)\n",
      "13-6 vs 68-18D: Ttest_indResult(statistic=-2.014434878149784, pvalue=0.04396793735620536)\n",
      "Col vs 13-6: Ttest_indResult(statistic=7.039342379089978, pvalue=1.9502256812672282e-12)\n",
      "Col vs arid5: Ttest_indResult(statistic=4.980911631802807, pvalue=6.344459379758365e-07)\n"
     ]
    }
   ],
   "source": [
    "print(\"Col vs 68-18D:\", ttest_ind(df['Col'], df['68-18D']))\n",
    "print(\"13-6 vs 68-18D:\", ttest_ind(df['13-6'], df['68-18D']))\n",
    "print(\"Col vs 13-6:\", ttest_ind(df['Col'], df['13-6']))\n",
    "print(\"Col vs arid5:\", ttest_ind(df['Col'], df['arid5']))"
   ]
  },
  {
   "cell_type": "code",
   "execution_count": null,
   "metadata": {},
   "outputs": [],
   "source": []
  },
  {
   "cell_type": "code",
   "execution_count": null,
   "metadata": {},
   "outputs": [],
   "source": []
  }
 ],
 "metadata": {
  "kernelspec": {
   "display_name": "Python 3",
   "language": "python",
   "name": "python3"
  },
  "language_info": {
   "codemirror_mode": {
    "name": "ipython",
    "version": 3
   },
   "file_extension": ".py",
   "mimetype": "text/x-python",
   "name": "python",
   "nbconvert_exporter": "python",
   "pygments_lexer": "ipython3",
   "version": "3.8.3"
  }
 },
 "nbformat": 4,
 "nbformat_minor": 4
}
